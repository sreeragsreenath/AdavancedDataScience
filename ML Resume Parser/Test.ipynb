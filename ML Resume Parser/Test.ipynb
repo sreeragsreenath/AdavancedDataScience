{
 "cells": [
  {
   "cell_type": "code",
   "execution_count": 22,
   "metadata": {},
   "outputs": [],
   "source": [
    "import PyPDF2\n",
    "pdfFileObj = open('UpdatedRESUME11.pdf','rb') \n",
    "pdfReader = PyPDF2.PdfFileReader(pdfFileObj)\n",
    "pdfReader.numPages\n",
    "pageObj = pdfReader.getPage(0)  \n",
    "text = pageObj.extractText()"
   ]
  },
  {
   "cell_type": "code",
   "execution_count": 23,
   "metadata": {},
   "outputs": [
    {
     "name": "stdout",
     "output_type": "stream",
     "text": [
      "[nltk_data] Downloading package brown to\n",
      "[nltk_data]     C:\\Users\\sreer\\AppData\\Roaming\\nltk_data...\n",
      "[nltk_data]   Package brown is already up-to-date!\n",
      "[nltk_data] Downloading package punkt to\n",
      "[nltk_data]     C:\\Users\\sreer\\AppData\\Roaming\\nltk_data...\n",
      "[nltk_data]   Package punkt is already up-to-date!\n"
     ]
    }
   ],
   "source": [
    "import nltk\n",
    "nltk.download('brown')\n",
    "nltk.download('punkt')\n",
    "from textblob import TextBlob\n",
    "blob = TextBlob(text)"
   ]
  },
  {
   "cell_type": "code",
   "execution_count": 24,
   "metadata": {
    "scrolled": false
   },
   "outputs": [
    {
     "name": "stdout",
     "output_type": "stream",
     "text": [
      "boston\n",
      "ma\n",
      "northeastern\n",
      "boston\n",
      "masterofscience\n",
      "database\n",
      "indore\n",
      "bachelorofengineering\n",
      "information\n",
      "coursework\n",
      "management\n",
      "nov\n",
      "designed\n",
      "object\n",
      "developing\n",
      "nov\n",
      "creating\n",
      "designed\n",
      "final\n",
      "project\n",
      "feb\n",
      "android\n",
      "android\n",
      "gui\n",
      "mysql\n",
      "java\n",
      "python\n",
      "beginner\n",
      "databases\n",
      "netbeanside\n",
      "sqlyog\n",
      "android\n",
      "html\n",
      "english\n",
      "hindi\n",
      "lead\n",
      "member\n",
      "bridges\n",
      "usa\n",
      "member\n",
      "toastmasters\n",
      "volunteer\n",
      "gramiksha\n",
      "india\n",
      "udaan\n"
     ]
    }
   ],
   "source": [
    "for k in blob.noun_phrases:\n",
    "    if(' ' not in k):\n",
    "        print(k)\n",
    "    "
   ]
  },
  {
   "cell_type": "code",
   "execution_count": 25,
   "metadata": {},
   "outputs": [
    {
     "data": {
      "text/plain": [
       "Sentiment(polarity=0.07905525846702317, subjectivity=0.2840463458110517)"
      ]
     },
     "execution_count": 25,
     "metadata": {},
     "output_type": "execute_result"
    }
   ],
   "source": [
    "blob.sentiment"
   ]
  }
 ],
 "metadata": {
  "kernelspec": {
   "display_name": "Python 3",
   "language": "python",
   "name": "python3"
  },
  "language_info": {
   "codemirror_mode": {
    "name": "ipython",
    "version": 3
   },
   "file_extension": ".py",
   "mimetype": "text/x-python",
   "name": "python",
   "nbconvert_exporter": "python",
   "pygments_lexer": "ipython3",
   "version": "3.6.4"
  }
 },
 "nbformat": 4,
 "nbformat_minor": 2
}
