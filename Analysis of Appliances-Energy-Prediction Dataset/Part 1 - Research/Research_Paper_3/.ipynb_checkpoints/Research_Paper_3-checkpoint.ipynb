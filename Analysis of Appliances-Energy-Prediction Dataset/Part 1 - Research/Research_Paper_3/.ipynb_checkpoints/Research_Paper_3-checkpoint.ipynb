{
 "cells": [
  {
   "cell_type": "markdown",
   "metadata": {},
   "source": [
    "# Research Topic 3 : \n",
    "\n",
    "# Prediction of appliances energy use in smart homes.\n"
   ]
  },
  {
   "cell_type": "markdown",
   "metadata": {},
   "source": [
    "<h1>Index</h1>\n",
    "\n",
    "<ol>\n",
    "    <li><a href=\"#abstract\">Abstract</a></li>\n",
    "    <li><a href=\"#introduction\">Introduction</a></li>\n",
    "    <li><a href=\"#The Smart Grid :\">Improving the prediction precision</a></li>\n",
    "    <li><a href=\"#house_description\">House Description</a></li>\n",
    "</ol>"
   ]
  },
  {
   "cell_type": "markdown",
   "metadata": {},
   "source": [
    "## <p id=\"abstract\">Abstract</p>\n",
    "\n",
    "The paper proposes a prediction method for predicting whether a house will consume energy or not during each hour of the next 24 h. Instead of predicting the energy consumption for total house, energy consumed by individual appliance is predicted and then the total energy consumed by a house is forecasted.\n",
    "\n",
    "The predictors used to predict energy consumption by house appliance are :\n",
    "1. The “will always consume” predictor\n",
    "2. The “will never consume” predictor\n",
    "3. The ARMA predictor\n",
    "4. The proposed predictor\n"
   ]
  },
  {
   "cell_type": "markdown",
   "metadata": {},
   "source": []
  },
  {
   "cell_type": "markdown",
   "metadata": {},
   "source": [
    "## <p id =\"introduction\">Introduction</p>\n",
    "\n",
    "It is important to predict the energy demand and consumption of energy by houses contributes as the major part of energy consumption.Fig.4 shows that major enegry consumption is by household appliances. The prediction was carried out by taking into consideration of indoor and outdoor condition as parameters. \n"
   ]
  },
  {
   "cell_type": "markdown",
   "metadata": {},
   "source": [
    "<p><img alt=\"\" src=\"./images/image1.PNG\" /></p>"
   ]
  },
  {
   "cell_type": "markdown",
   "metadata": {},
   "source": [
    "We can save energy by switching off the appliances when unused that consumes most energy. For this purpose this research paper asks to calculate the energy consumed by each device or appliances and then we can combine to calculate the total energy consumed and predict future consumption.Below figure depts \n",
    "\n"
   ]
  },
  {
   "cell_type": "markdown",
   "metadata": {},
   "source": [
    "The paper explains how Smart grid will help in better prediction.Smart grid initiatives seek to improve operations, maintenance and planning using modern technology in order to better manage energy use and costs. It then tells how segmentation of data can improve prediction precision. The objective of segmentation is to reduce the average dispersion in order to improve the prediction.Once the segmentation is done, we will merge the segments that are similar using a clustering algorithm.\n",
    "\n",
    "\n",
    "The Smart Grid :\n",
    "The author gave an overview of smart grid stating how it can be a solution for power consumption prediction. Smart grid helps to provide higher power quality, to accommodate all generation and storage options, to enable electricity markets to flourish, to manage more efficiently the assets and costs. Below figure depicts the important components of the smart grid.\n"
   ]
  },
  {
   "cell_type": "markdown",
   "metadata": {},
   "source": [
    "## <p id =\"The Smart Grid :\">The Smart Grid</p>\n",
    "\n",
    "\n",
    "The author gave an overview of smart grid stating how it can be a solution for power consumption prediction. Smart grid helps to provide higher power quality, to accommodate all generation and storage options, to enable electricity markets to flourish, to manage more efficiently the assets and costs. Below figure depicts the important components of the smart grid.\n",
    "\n",
    "It introduces a new term called demand dispatch which will help to control the load of individual appliance all the times other then peak period.refers to Load management involves two types of load control:\n",
    "1. Direct control\n",
    "2. Control by cost\n",
    "\n",
    "The research paper show how Cost control is an better approach then Direct control  Below figure depicts how cost control changes the load curve shape in a way that energy consumption at peak decreases, even though the total consumption for the specific household is the same. This is done by increasing the prices for energy at peak periods and after these new tariffs would be applied. Whereas Direct control refers to the increasing the energy production in case of higher load demand.\n",
    "\n",
    "\n",
    "A figure of direct cost would have helped to compare the methods in a better way.\n",
    "\n",
    "The predictors used to predict energy consumption by house appliance are :\n",
    "The “will always consume” predictor will predict considering the appliances will always consume energy.\n",
    "The “will never consume” predictor will predict considering the appliances will never consume energy.\n",
    "The ARMA predictor method is one where the current value of a time variable is assumed to be a function of its past values and it is expressed as a weighted sum.\n",
    "The proposed predictor \n",
    " \t\tTo model energy consumption more randomly rather then always pre assumming the consumption.The proposed predictor specifies the probability of the appliance to consume on an hourly base using the below formula :\n",
    "\n",
    "where n(h) is the considered number of hours h in the test period, n1(h,h þ 24) is the number of times the service did consume during hour h of the historical data and pa,t is a set threshold. Fig. 12 shows the prediction precision of the proposed predictor related to the basic predictors in the previous subsections.\n"
   ]
  },
  {
   "cell_type": "markdown",
   "metadata": {},
   "source": [
    "## <p id =\"Improving the prediction precision\">Improving the prediction precision</p>\n",
    "\n",
    "As suggested by the author the proposed predictor is the best way to predict the energy consumption. But the prediction can be improved if we segment that data . A temporal segmentation, that considers each day of the week as a partition can be done. For each segment, the hourly predictions are made considering the proposed predictor. Then a  k-Means clustering algorithm is applied in order to group the similar consumption days.\n"
   ]
  },
  {
   "cell_type": "markdown",
   "metadata": {},
   "source": [
    "## <p id =\"Conclusion\">Conclusion</p>\n",
    "\n",
    "\n",
    " \n",
    " Different basic predictors are presented and tested for the available historical data. But the prediction of energy consumption in housing is very dependent on consumers behavior, so the author suggests a method that takes into consideration the usage of hourly base of each appliance and then combine the usage to calculate the total consumption. It is based on the segmentation of data considering the patterns in energy consumption. The historical data is divided according to the results of the k-means clustering algorithm. This procedure improves the precision of the predictor.\n",
    "The author has used this prediction only for few appliances , later it can used and tested for all appliances and then all houses to test the accuracy of the proposed predictor.\n"
   ]
  },
  {
   "cell_type": "code",
   "execution_count": null,
   "metadata": {},
   "outputs": [],
   "source": []
  },
  {
   "cell_type": "code",
   "execution_count": null,
   "metadata": {},
   "outputs": [],
   "source": []
  }
 ],
 "metadata": {
  "kernelspec": {
   "display_name": "Python 3",
   "language": "python",
   "name": "python3"
  },
  "language_info": {
   "codemirror_mode": {
    "name": "ipython",
    "version": 3
   },
   "file_extension": ".py",
   "mimetype": "text/x-python",
   "name": "python",
   "nbconvert_exporter": "python",
   "pygments_lexer": "ipython3",
   "version": "3.6.4"
  }
 },
 "nbformat": 4,
 "nbformat_minor": 2
}
