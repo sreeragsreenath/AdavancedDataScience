{
 "cells": [
  {
   "cell_type": "markdown",
   "metadata": {},
   "source": [
    "# Research Paper 1\n",
    "# Data Driven Prediction Models of Energy use of Appliance in a low-energy house"
   ]
  },
  {
   "cell_type": "markdown",
   "metadata": {},
   "source": [
    "<h1>Index</h1>\n",
    "\n",
    "<ol>\n",
    "    <li><a href=\"#abstract\">Abstract</a></li>\n",
    "    <li><a href=\"#introduction\">Introduction</a></li>\n",
    "    <li><a href=\"#literature_review\">Literature Review</a></li>\n",
    "    <li><a href=\"#house_description\">House Description</a></li>\n",
    "</ol>"
   ]
  },
  {
   "cell_type": "markdown",
   "metadata": {},
   "source": [
    "## <p id=\"abstract\">Abstract</p>\n",
    "\n",
    "The paper is about data driven models for the energy use of appliances with the help of weather parameters such as temperature, humidity from a wireless network and Airport stations.\n",
    "\n",
    "The four statistical features they used were:\n",
    "1. Multiple linear regression \n",
    "2. Support vector model with radial kernel\n",
    "3. gradient boost machine(GBM)\n",
    "\n",
    "They concluded that GBM was able to explain 97% of the variance(R2) in the training set and with 57% in the testing set.\n",
    "\n",
    "They also found out that the atmospheric pressure (which correlated to wind speed) is an influential parameter in the predictions made.\n"
   ]
  },
  {
   "cell_type": "markdown",
   "metadata": {},
   "source": [
    "## <p id =\"introduction\">Introduction</p>\n",
    "The electric consumption in a building is influenced by 2 major factors:\n",
    "1. The type and number of electrical appliance.\n",
    "2. The use of the appliance by the occupant.\n",
    "\n",
    "The prediction was carried out by taking into consideration of indoor and outdoor condition as parameters. \n"
   ]
  },
  {
   "cell_type": "markdown",
   "metadata": {},
   "source": [
    "<p><img alt=\"\" src=\"./images/residential_energy_consumption.PNG\" /></p>\n",
    "<p><b>fig. 1 : </b>Residential electrical energy consumption adapted from Table A4 page 139 of annual energy Outlook projections for 2015. Top chart, percentage of all deliveredenergy, Bottom chart, after removing Space heating, Space cooling, Lighting and Water Heating contributions<p>"
   ]
  },
  {
   "cell_type": "markdown",
   "metadata": {},
   "source": [
    "## <p id=\"literature_review\">Literature Review</p>\n",
    "\n",
    "<h3>Data and Techniques</h3>\n",
    "\n",
    "<ul>\n",
    "\t<li>The data consists of hourly end-use data collected from 454 houses and 140 cmmercial buildings.</li>\n",
    "\t<li>The syntehtic data was compiled using Markov Chain Monte Carlo technique.</li>\n",
    "\t<li>The methodology to estimate building energy consumption is taken from EnergyPlus benchmark models.</li>\n",
    "\t<li>A Norton equivalent technique was used to model residential loads.</li>\n",
    "</ul>\n",
    "\n",
    "<h3>Electricity load prediction</h3>\n",
    "\n",
    "<ul>\n",
    "\t<li>The data available included\n",
    "\t<ul>\n",
    "\t\t<li>weather</li>\n",
    "\t\t<li>location(ZIP)</li>\n",
    "\t\t<li>age of building</li>\n",
    "\t\t<li>ownership</li>\n",
    "\t\t<li>Presence of double pane window</li>\n",
    "\t\t<li>number of refrigirators</li>\n",
    "\t\t<li>entertainment device</li>\n",
    "\t\t<li>floor area</li>\n",
    "\t\t<li>pet ownership</li>\n",
    "\t\t<li>number of occupants</li>\n",
    "\t\t<li>income level</li>\n",
    "\t</ul>\n",
    "\t</li>\n",
    "\t<li>The researchers concluded that the following were relevant:\n",
    "\t<ul>\n",
    "\t\t<li>weather&nbsp;</li>\n",
    "\t\t<li>location</li>\n",
    "\t\t<li>floor area</li>\n",
    "\t\t<li>and few appliances like regrigirator and entertainment devices</li>\n",
    "\t</ul>\n",
    "\t</li>\n",
    "</ul>\n"
   ]
  },
  {
   "cell_type": "markdown",
   "metadata": {},
   "source": [
    "## <p id=\"house_description\">House Description</p>\n",
    "\n",
    "<ul>\n",
    "\t<li>The house is located in Stambruges</li>\n",
    "\t<li>The constructionwas finished on December 2015. All the mechanical systems arenew.</li>\n",
    "\t<li>the building wasdesigned to have an annual heating load and cooling load of no morethan 15 kWh/m2per year according to the Passive House PlanningPackage (PHPP) software design tool</li>\n",
    "\t<li>The building air leakage was measured in September 2016and is 0.6 air changes per hour at 50 Pa.</li>\n",
    "\t<li>The house was designedwith U &lt; 0.1 W/m2K for the exterior walls, roof and ground.</li>\n",
    "\t<li>Tripleglazed windows are used with Ug= 0.5 W/m2K and Uf&lt; 0.9 W/m2K.</li>\n",
    "\t<li>The ventilation is provided by a heat recovery ventilation unit withbetween 90 and 95% efficiency.</li>\n",
    "\t<li>The total floor area is 280 m2, from which the total heated area is 220 m2.</li>\n",
    "\t<li>There are usually fouroccupants of the house, two adults and two teenagers. One of theadults works regularly in the home office.</li>\n",
    "</ul>\n",
    "\n",
    "<h3>Energy Meter and Zigbee nodes</h3>\n",
    "\n",
    "<ul>\n",
    "\t<li>nodesThe electric energy metering at the passive house was donewith M-BUS energy counters.</li>\n",
    "\t<li>The information from these energycounters is collected every 10 min.</li>\n",
    "\t<li>The individual electrical loadmetering includes: the heat recovery ventilation unit, domestichot water heat pump (COP around 2.7), the energy consumptionof appliances, lighting, and electric baseboard heaters.</li>\n",
    "\t<li>The appliances energy metering includes the energy used by the deviceslisted in Table 1.</li>\n",
    "\t<li>The energy information is collected with aninternet-connected energy monitoring system where it is storedand then it is reported by e-mail every 12 h.</li>\n",
    "</ul>\n"
   ]
  },
  {
   "cell_type": "markdown",
   "metadata": {},
   "source": [
    "<p><img alt=\"\" src=\"./images/list_of_appliance_in_each_room.PNG\" /></p>\n",
    "\n",
    "<p><img alt=\"\" src=\"./images/Aggregated_electric_energy_consumption_per_month.PNG\" /></p>\n"
   ]
  },
  {
   "cell_type": "markdown",
   "metadata": {},
   "source": [
    "<h3>Data Recorded</h3>\n",
    "\n",
    "<ul>\n",
    "\t<li>The house temperature and humidity conditions were moni-tored with a ZigBee wireless sensor network</li>\n",
    "\t<li>descriptionThe energy (Wh) data logged every 10 min for the appliances isthe focus of this analysis.</li>\n",
    "\t<li>The 10 min reporting interval was cho-sen to be able to capture quick changes in energy consumption.</li>\n",
    "\t<li>Another sub-metered load (lights) is included in the analysis sinceit has been shown to be a good predictor of room occupancy whencombined with relative humidity measurements</li>\n",
    "\t<li>The time span of the data set is 137 days (4.5 months).</li>\n",
    "\t<li>Although there is no weather station outside the house, weatherdata for the nearest airport weather station.The Chi&egrave;vres Airport, Belgium is located about 12 km from theStambruges house</li>\n",
    "</ul>\n",
    "\n",
    "<p>&nbsp;</p>\n"
   ]
  },
  {
   "cell_type": "markdown",
   "metadata": {},
   "source": [
    "<p><img alt=\"\" src=\"./images/Appliances_energy_consumption_distribution.PNG\" /></p>\n"
   ]
  },
  {
   "cell_type": "markdown",
   "metadata": {},
   "source": [
    "### Correlation"
   ]
  },
  {
   "cell_type": "markdown",
   "metadata": {},
   "source": [
    "<p><img alt=\"\" src=\"./images/Pairs_plot.PNG\" /></p>"
   ]
  },
  {
   "cell_type": "markdown",
   "metadata": {},
   "source": [
    "<p>Pair Plot Findings:</p>\n",
    "\n",
    "<ul>\n",
    "\t<li>Shows that there is a positive correlation between theenergy consumption of appliances and lights (0.19).</li>\n",
    "\t<li>The second largest correlation is between appliances and T2.</li>\n",
    "\t<li>For the indoor temperatures, the correlations are high as expected.</li>\n",
    "\t<li>The plot shows that the highest correlation with the appliances is between the outdoortemperature (0.12).</li>\n",
    "\t<li>There is also a negative correlation betweenthe appliances and outdoor humidity/RH6 (&minus;.09).</li>\n",
    "</ul>\n"
   ]
  },
  {
   "cell_type": "markdown",
   "metadata": {},
   "source": [
    "<h3>Data features and filtering</h3>\n",
    "\n",
    "<ul>\n",
    "\t<li>The Boruta algorithm was used to find releant features.&nbsp;</li>\n",
    "\t<li>The algorithm marks ariable according to importance.&nbsp;</li>\n",
    "\t<li>But it does not give insight with respect to RSME.</li>\n",
    "</ul>\n"
   ]
  },
  {
   "cell_type": "markdown",
   "metadata": {},
   "source": [
    "<p><img alt=\"\" src=\"./images/Boruta_algorithm_selection.PNG\" /></p>\n"
   ]
  },
  {
   "cell_type": "markdown",
   "metadata": {},
   "source": [
    "### Performance of Regression Models"
   ]
  },
  {
   "cell_type": "markdown",
   "metadata": {},
   "source": [
    "The perofrmance of diffrent models were calculated using:\n",
    "1. Root Mean Squared Error(RMSE)\n",
    "\\begin{align}\n",
    "RMSE = \\sqrt{\\frac{1}{n}\\Sigma_{i=1}^{n}{\\Big({Y_i -\\widehat{Y_i}}\\Big)^2}}\n",
    "\\end{align}\n",
    "2. R-Squared\n",
    "\\begin{align}\n",
    " R^2 = 1-{\\frac{\\Sigma_{i=1}^{n}{\\Big({Y_i -\\widehat{Y_i}}\\Big)^2}}{\\Sigma_{i=1}^{n}{\\Big({Y_i -\\bar{Y_i}}\\Big)^2}}}\n",
    "\\end{align}\n",
    "3. Mean Absolute Error\n",
    "\\begin{align}\n",
    "MAE = {\\frac{1}{n}\\Sigma_{i=1}^{n}{\\Big(|{Y_i -\\widehat{Y_i}}|\\Big)}}\n",
    "\\end{align}\n",
    "4. Mean Absolute Percentage Error\n",
    "\\begin{align}\n",
    "MAPE = {\\frac{1}{n}\\Sigma_{i=1}^{n}\\frac{{\\Big(|{Y_i -\\widehat{Y_i}}|\\Big)}}{Y_i}}\n",
    "\\end{align}"
   ]
  },
  {
   "cell_type": "markdown",
   "metadata": {},
   "source": [
    "### Discussion of Results\n",
    "The consumption of appliances represents thehighest percentage of electrical consumption, between 70% and 79%of the monthly consumption. The appliances’ consumption profileis highly variable as seen in Fig. 7, with periods of almost constantdemand followed by high spikes.\n",
    "\n",
    "When doing the exploratory data analysis some paired corre-lations found were interesting. Fig. 9, Appendices A and B showthat high correlations exist between T1 and T2 (0.84), T2 andT3 (0.74), T4 and T5 (0.87), T5 and T6 (0.63), T7 and T8 (0.88),and T8 with T9 (0.86). This is important because it indicates thatRC thermal networks are suited for building energy modelingand that measuring the most representative rooms may be rep-resentative enough for the energy prediction of appliances.\n",
    "\n",
    "The relationships between the humidity in each room and theappliances’ consumption are quite telling. From research in [43],the humidity of the room (also the humidity ratio) increased whenoccupants arrived in the office room and started to drop when theoffice was empty. Therefore, higher humidity may indicate occu-pancy.\n"
   ]
  },
  {
   "cell_type": "markdown",
   "metadata": {},
   "source": [
    "### Research Limitations\n",
    "One of the main limitations of this study is that the analysis wasdone for only one house.\n",
    "\n",
    "Another research limitation is the length of continu-ous analyzed data.\n",
    "\n",
    "Regarding the weatherstation, the predictions of appliances energy use could probably bebetter if the weather station was closer to the house.\n",
    "\n",
    "This researchhas not looked into the problem of optimal location of the wirelessindoor sensors for improvement of the energy prediction.\n",
    "\n"
   ]
  },
  {
   "cell_type": "markdown",
   "metadata": {},
   "source": [
    "## Conclusion\n",
    "ConclusionThe statistical data analysis has shown thought-provokingresults in both the exploratory analysis and in prediction models. The pairwise plots are useful because they shed light on thedifferent relationships between parameters that could be hiddenin final predictive models. The GBM and RF models improve theRSME and R2of predictions compared to the SVM-radial and mul-tiple linear regression lm. For all the models, the time information(NSM) was ranked as the most important to predict the appliances’consumption.\n",
    "\n",
    "The weather data from the nearby weather station was shownto increase the prediction accuracy in the GBM models.\n",
    "\n",
    "When using all the predictors the light consumption wasranked highly. However, when studying different predictor subsets,removing the light consumption appeared not to have a significantimpact. This may be an indication that other features are correlatedwell with the light energy consumption."
   ]
  }
 ],
 "metadata": {
  "kernelspec": {
   "display_name": "Python 3",
   "language": "python",
   "name": "python3"
  },
  "language_info": {
   "codemirror_mode": {
    "name": "ipython",
    "version": 3
   },
   "file_extension": ".py",
   "mimetype": "text/x-python",
   "name": "python",
   "nbconvert_exporter": "python",
   "pygments_lexer": "ipython3",
   "version": "3.6.4"
  }
 },
 "nbformat": 4,
 "nbformat_minor": 2
}
