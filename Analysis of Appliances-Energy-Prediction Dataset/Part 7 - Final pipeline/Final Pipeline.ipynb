{
 "cells": [
  {
   "cell_type": "markdown",
   "metadata": {},
   "source": [
    "# Final Pipeline"
   ]
  },
  {
   "cell_type": "code",
   "execution_count": 1,
   "metadata": {},
   "outputs": [],
   "source": [
    "import pandas as pd\n",
    "import time\n",
    "import numpy as np\n",
    "import datetime\n",
    "import logging\n",
    "from sklearn.preprocessing import MinMaxScaler\n",
    "from sklearn.ensemble import RandomForestRegressor\n",
    "from sklearn.model_selection import train_test_split\n",
    "from sklearn.pipeline import make_pipeline"
   ]
  },
  {
   "cell_type": "code",
   "execution_count": 2,
   "metadata": {},
   "outputs": [],
   "source": [
    "logfilename = 'log_pipeLine.txt'\n",
    "logging.basicConfig(filename=logfilename, level=logging.DEBUG,\n",
    "                        format='%(asctime)s - %(levelname)s - %(message)s')\n",
    "logging.debug('Program Started')"
   ]
  },
  {
   "cell_type": "code",
   "execution_count": 3,
   "metadata": {},
   "outputs": [],
   "source": [
    "logging.debug('Loading Data into Dataframe')\n",
    "try :  \n",
    "    data= pd.read_csv(\"Dataset/energydata_complete.csv\")\n",
    "    logging.debug('Data Size'+str(data.shape) )\n",
    "    \n",
    "except :\n",
    "    logging.ERROR('Data logging failed')"
   ]
  },
  {
   "cell_type": "code",
   "execution_count": 4,
   "metadata": {},
   "outputs": [],
   "source": [
    "logging.debug(\"Tranforming date time\")\n",
    "data[\"date_time\"] = pd.to_datetime(data[\"date\"],format=\"%Y-%m-%d %H:%M:%S\")"
   ]
  },
  {
   "cell_type": "code",
   "execution_count": 5,
   "metadata": {},
   "outputs": [],
   "source": [
    "def dayoftheweek(day):\n",
    "    if(day==0):\n",
    "        return(\"Monday\")\n",
    "    if(day==1):\n",
    "        return(\"Tuesday\")\n",
    "    if(day==2):\n",
    "        return(\"Wednesday\")\n",
    "    if(day==3):\n",
    "        return(\"Thurday\")\n",
    "    if(day==4):\n",
    "        return(\"Friday\")\n",
    "    if(day==5):\n",
    "        return(\"Saturday\")\n",
    "    if(day==6):\n",
    "        return(\"Sunday\")"
   ]
  },
  {
   "cell_type": "code",
   "execution_count": 6,
   "metadata": {},
   "outputs": [
    {
     "data": {
      "text/plain": [
       "dayoftheweek\n",
       "Friday       2845\n",
       "Monday       2778\n",
       "Saturday     2736\n",
       "Sunday       2736\n",
       "Thurday      2880\n",
       "Tuesday      2880\n",
       "Wednesday    2880\n",
       "Name: date_time, dtype: int64"
      ]
     },
     "execution_count": 6,
     "metadata": {},
     "output_type": "execute_result"
    }
   ],
   "source": [
    "logging.debug('Creating column Day of the week') \n",
    "data[\"dayoftheweek\"] = data['date_time']\n",
    "data[\"dayoftheweek\"] = data['dayoftheweek'].apply(lambda x: dayoftheweek(x.dayofweek))\n",
    "data.groupby('dayoftheweek').count()[\"date_time\"]"
   ]
  },
  {
   "cell_type": "code",
   "execution_count": 7,
   "metadata": {},
   "outputs": [],
   "source": [
    "logging.debug('Creating column weekdaytype') \n",
    "def weekdaytype(day):\n",
    "    if(day==\"Saturday\" or day == \"Sunday\"):\n",
    "        return \"weekend\"\n",
    "    else:\n",
    "        return \"Weekday\""
   ]
  },
  {
   "cell_type": "code",
   "execution_count": 8,
   "metadata": {},
   "outputs": [
    {
     "data": {
      "text/plain": [
       "WeekDayType\n",
       "Weekday    14263\n",
       "weekend     5472\n",
       "Name: date_time, dtype: int64"
      ]
     },
     "execution_count": 8,
     "metadata": {},
     "output_type": "execute_result"
    }
   ],
   "source": [
    "data[\"WeekDayType\"] = data[\"dayoftheweek\"]\n",
    "data[\"WeekDayType\"] = data['WeekDayType'].apply(lambda x: weekdaytype(x))\n",
    "data.groupby('WeekDayType').count()[\"date_time\"]"
   ]
  },
  {
   "cell_type": "code",
   "execution_count": 9,
   "metadata": {},
   "outputs": [],
   "source": [
    "def partOfTheDay(time):\n",
    "    day1 = pd.to_datetime('18:00:00',format=\"%H:%M:%S\")\n",
    "    day2 = pd.to_datetime('6:00:00',format=\"%H:%M:%S\")\n",
    "    if(time<day1.time() and time >= day2.time()):\n",
    "        return \"Day\"\n",
    "    else:\n",
    "        return \"Night\""
   ]
  },
  {
   "cell_type": "code",
   "execution_count": 10,
   "metadata": {},
   "outputs": [],
   "source": [
    "data['timeofDay'] = data[\"date_time\"].map(lambda x: partOfTheDay(x.time()))"
   ]
  },
  {
   "cell_type": "code",
   "execution_count": 11,
   "metadata": {},
   "outputs": [
    {
     "data": {
      "text/plain": [
       "timeofDay\n",
       "Day      9870\n",
       "Night    9865\n",
       "Name: date_time, dtype: int64"
      ]
     },
     "execution_count": 11,
     "metadata": {},
     "output_type": "execute_result"
    }
   ],
   "source": [
    "data.groupby('timeofDay').count()[\"date_time\"]"
   ]
  },
  {
   "cell_type": "code",
   "execution_count": 12,
   "metadata": {},
   "outputs": [],
   "source": [
    "def awakeTest(time):\n",
    "    day1 = pd.to_datetime('8:00:00',format=\"%H:%M:%S\")\n",
    "    day2 = pd.to_datetime('22:00:00',format=\"%H:%M:%S\")\n",
    "    if(time>=day1.time() and time < day2.time()):\n",
    "        return \"awake\"\n",
    "    else:\n",
    "        return \"sleep\""
   ]
  },
  {
   "cell_type": "code",
   "execution_count": 13,
   "metadata": {},
   "outputs": [],
   "source": [
    "logging.debug('Creating column activeStatus') \n",
    "data['activeStatus'] = data[\"date_time\"].map(lambda x: awakeTest(x.time()))"
   ]
  },
  {
   "cell_type": "code",
   "execution_count": 14,
   "metadata": {},
   "outputs": [
    {
     "data": {
      "text/plain": [
       "activeStatus\n",
       "awake    11515\n",
       "sleep     8220\n",
       "Name: date_time, dtype: int64"
      ]
     },
     "execution_count": 14,
     "metadata": {},
     "output_type": "execute_result"
    }
   ],
   "source": [
    "data.groupby('activeStatus').count()[\"date_time\"]"
   ]
  },
  {
   "cell_type": "code",
   "execution_count": 15,
   "metadata": {},
   "outputs": [],
   "source": [
    "logging.debug('Creating column Number of seconds to midnight') \n",
    "data['NSM'] = pd.to_datetime(data['date_time'])\n",
    "data['NSM']  = (data['NSM'].dt.hour*60 + data['NSM'].dt.minute)*60 + data['NSM'].dt.second"
   ]
  },
  {
   "cell_type": "code",
   "execution_count": 16,
   "metadata": {},
   "outputs": [],
   "source": [
    "data[\"weekOfTheYear\"] = data['date_time'].apply(lambda x: x.isocalendar()[1])"
   ]
  },
  {
   "cell_type": "code",
   "execution_count": 17,
   "metadata": {},
   "outputs": [
    {
     "name": "stdout",
     "output_type": "stream",
     "text": [
      "spring\n"
     ]
    }
   ],
   "source": [
    "from datetime import date, datetime\n",
    "Y = 2000 # dummy leap year to allow input X-02-29 (leap day)\n",
    "seasons = [('winter', (date(Y,  1,  1),  date(Y,  3, 20))),\n",
    "           ('spring', (date(Y,  3, 21),  date(Y,  6, 20))),\n",
    "           ('summer', (date(Y,  6, 21),  date(Y,  9, 22))),\n",
    "           ('autumn', (date(Y,  9, 23),  date(Y, 12, 20))),\n",
    "           ('winter', (date(Y, 12, 21),  date(Y, 12, 31)))]\n",
    "def get_season(now):\n",
    "    if isinstance(now, datetime):\n",
    "        now = now.date()\n",
    "    now = now.replace(year=Y)\n",
    "    return next(season for season, (start, end) in seasons\n",
    "                if start <= now <= end)\n",
    "\n",
    "print(get_season(data['date_time'][19734]))"
   ]
  },
  {
   "cell_type": "code",
   "execution_count": 18,
   "metadata": {},
   "outputs": [],
   "source": [
    "logging.debug('Creating column Season') \n",
    "data['season'] = data['date_time'].apply(lambda x: get_season(x))"
   ]
  },
  {
   "cell_type": "code",
   "execution_count": 19,
   "metadata": {},
   "outputs": [],
   "source": [
    "logging.debug('Creating Dummy Column') \n",
    "data = pd.get_dummies(data, columns=[\"timeofDay\",\"activeStatus\",'dayoftheweek','WeekDayType','season'])"
   ]
  },
  {
   "cell_type": "code",
   "execution_count": 20,
   "metadata": {},
   "outputs": [],
   "source": [
    "#Select response y and Training set X\n",
    "k = list(data)\n",
    "k\n",
    "my_cols = [\n",
    " 'lights',\n",
    " 'T1',\n",
    " 'RH_1',\n",
    " 'T2',\n",
    " 'RH_2',\n",
    " 'T3',\n",
    " 'RH_3',\n",
    " 'T4',\n",
    " 'RH_4',\n",
    " 'T5',\n",
    " 'RH_5',\n",
    " 'T6',\n",
    " 'RH_6',\n",
    " 'T7',\n",
    " 'RH_7',\n",
    " 'T8',\n",
    " 'RH_8',\n",
    " 'T9',\n",
    " 'RH_9',\n",
    " 'T_out',\n",
    " 'Press_mm_hg',\n",
    " 'RH_out',\n",
    " 'Windspeed',\n",
    " 'Visibility',\n",
    " 'Tdewpoint',\n",
    " 'NSM',\n",
    " 'weekOfTheYear',\n",
    " 'timeofDay_Day',\n",
    " 'timeofDay_Night',\n",
    " 'activeStatus_awake',\n",
    " 'activeStatus_sleep',\n",
    " 'dayoftheweek_Friday',\n",
    " 'dayoftheweek_Monday',\n",
    " 'dayoftheweek_Saturday',\n",
    " 'dayoftheweek_Sunday',\n",
    " 'dayoftheweek_Thurday',\n",
    " 'dayoftheweek_Tuesday',\n",
    " 'dayoftheweek_Wednesday',\n",
    " 'WeekDayType_Weekday',\n",
    " 'WeekDayType_weekend',\n",
    " 'season_spring',\n",
    " 'season_winter']\n",
    "X = data[my_cols]\n",
    "y = data['Appliances']"
   ]
  },
  {
   "cell_type": "code",
   "execution_count": 25,
   "metadata": {},
   "outputs": [],
   "source": [
    "min_max_scaler = MinMaxScaler()\n",
    "X = min_max_scaler.fit_transform(X)\n",
    "X_train, X_test, y_train, y_test = train_test_split(X, y, train_size = 0.75, test_size = 0.25)"
   ]
  },
  {
   "cell_type": "code",
   "execution_count": 26,
   "metadata": {},
   "outputs": [
    {
     "data": {
      "text/plain": [
       "RandomForestRegressor(bootstrap=True, criterion='mse', max_depth=None,\n",
       "           max_features=4, max_leaf_nodes=None, min_impurity_decrease=0.0,\n",
       "           min_impurity_split=None, min_samples_leaf=1,\n",
       "           min_samples_split=2, min_weight_fraction_leaf=0.0,\n",
       "           n_estimators=300, n_jobs=1, oob_score=False, random_state=None,\n",
       "           verbose=0, warm_start=False)"
      ]
     },
     "execution_count": 26,
     "metadata": {},
     "output_type": "execute_result"
    }
   ],
   "source": [
    "classifier = RandomForestRegressor(n_estimators = 300, max_features=4)\n",
    "classifier.fit(X_train, y_train)"
   ]
  },
  {
   "cell_type": "code",
   "execution_count": 27,
   "metadata": {},
   "outputs": [
    {
     "name": "stdout",
     "output_type": "stream",
     "text": [
      "R-squared for Train: 0.94\n",
      "R-squared for Test: 0.60\n"
     ]
    }
   ],
   "source": [
    "print (\"R-squared for Train: %.2f\" %classifier.score(X_train, y_train))\n",
    "print (\"R-squared for Test: %.2f\" %classifier.score(X_test, y_test))"
   ]
  }
 ],
 "metadata": {
  "kernelspec": {
   "display_name": "Python 3",
   "language": "python",
   "name": "python3"
  },
  "language_info": {
   "codemirror_mode": {
    "name": "ipython",
    "version": 3
   },
   "file_extension": ".py",
   "mimetype": "text/x-python",
   "name": "python",
   "nbconvert_exporter": "python",
   "pygments_lexer": "ipython3",
   "version": "3.6.4"
  }
 },
 "nbformat": 4,
 "nbformat_minor": 2
}
